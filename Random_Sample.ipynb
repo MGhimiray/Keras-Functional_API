{
  "cells": [
    {
      "cell_type": "markdown",
      "metadata": {
        "id": "view-in-github",
        "colab_type": "text"
      },
      "source": [
        "<a href=\"https://colab.research.google.com/github/MGhimiray/Keras-Functional_API/blob/main/Random_Sample.ipynb\" target=\"_parent\"><img src=\"https://colab.research.google.com/assets/colab-badge.svg\" alt=\"Open In Colab\"/></a>"
      ]
    },
    {
      "cell_type": "code",
      "execution_count": 90,
      "metadata": {
        "id": "vY2Lrk4js7ZV"
      },
      "outputs": [],
      "source": [
        "import numpy as np\n",
        "import random\n",
        "from random import randint\n",
        "from sklearn.utils import shuffle\n",
        "from sklearn import preprocessing\n",
        "from sklearn.preprocessing import MinMaxScaler"
      ]
    },
    {
      "cell_type": "code",
      "execution_count": null,
      "metadata": {
        "id": "DzcjIenD0ib7"
      },
      "outputs": [],
      "source": [
        "train_input = []\n",
        "train_label = []\n",
        "population1 = list(range(20, 50))\n",
        "population2 = list(range(50, 100))\n",
        "size = 50\n",
        "\n",
        "for i in range(1, 51):\n",
        "    young = random.choices(population1, k=size)\n",
        "    train_input.extend(young)\n",
        "    train_label.append(0)\n",
        "\n",
        "    elder = random.choices(population2, k=size)\n",
        "    train_input.extend(elder)\n",
        "    train_label.append(1)\n",
        "\n",
        "count = len(train_label)\n",
        "print(count)"
      ]
    },
    {
      "cell_type": "code",
      "execution_count": null,
      "metadata": {
        "id": "9MpsO0QBgDrM"
      },
      "outputs": [],
      "source": [
        "size = 950\n",
        "\n",
        "for i in range(size):\n",
        "    young = random.choice(population1)\n",
        "    train_input.append(young)\n",
        "    train_label.append(1)\n",
        "\n",
        "    elder = random.choice(population2)\n",
        "    train_input.append(elder)\n",
        "    train_label.append(0)\n",
        "\n",
        "count = len(train_label)\n",
        "print(count)"
      ]
    },
    {
      "cell_type": "code",
      "execution_count": 102,
      "metadata": {
        "id": "T4ls_i1w22iq"
      },
      "outputs": [],
      "source": [
        "combined_data = list(zip(train_input, train_label))\n",
        "random.shuffle(combined_data)\n",
        "\n",
        "train_input, train_label = zip(*combined_data)\n",
        "\n",
        "train_input = np.array(train_input)\n",
        "train_label = np.array(train_label)\n",
        "\n",
        "scaler = MinMaxScaler(feature_range=(0, 1))\n",
        "scaled_train_input = scaler.fit_transform(train_input.reshape(-1, 1))"
      ]
    }
  ],
  "metadata": {
    "colab": {
      "provenance": [],
      "authorship_tag": "ABX9TyMA/pa9v1Tr/T+rqkrkNbOP",
      "include_colab_link": true
    },
    "kernelspec": {
      "display_name": "Python 3",
      "name": "python3"
    },
    "language_info": {
      "name": "python"
    }
  },
  "nbformat": 4,
  "nbformat_minor": 0
}