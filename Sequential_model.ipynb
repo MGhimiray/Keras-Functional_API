{
  "nbformat": 4,
  "nbformat_minor": 0,
  "metadata": {
    "colab": {
      "provenance": [],
      "authorship_tag": "ABX9TyPO8xUUHCR2beAHS88zKwDW",
      "include_colab_link": true
    },
    "kernelspec": {
      "name": "python3",
      "display_name": "Python 3"
    },
    "language_info": {
      "name": "python"
    }
  },
  "cells": [
    {
      "cell_type": "markdown",
      "metadata": {
        "id": "view-in-github",
        "colab_type": "text"
      },
      "source": [
        "<a href=\"https://colab.research.google.com/github/MGhimiray/Keras-Functional_API/blob/main/Sequential_model.ipynb\" target=\"_parent\"><img src=\"https://colab.research.google.com/assets/colab-badge.svg\" alt=\"Open In Colab\"/></a>"
      ]
    },
    {
      "cell_type": "code",
      "execution_count": null,
      "metadata": {
        "id": "vY2Lrk4js7ZV"
      },
      "outputs": [],
      "source": [
        "import numpy as np\n",
        "import random\n",
        "from random import randint\n",
        "from sklearn.utils import shuffle\n",
        "from sklearn import preprocessing\n",
        "from sklearn.preprocessing import MinMaxScaler\n",
        "\n",
        "import tensorflow as tf\n",
        "from tensorflow import keras\n",
        "from tensorflow.keras.models import Sequential\n",
        "from tensorflow.keras.layers import Activation, Dense\n",
        "from tensorflow.keras.optimizers import Adam\n",
        "from tensorflow.keras.metrics import categorical_crossentropy"
      ]
    },
    {
      "cell_type": "code",
      "execution_count": null,
      "metadata": {
        "id": "DzcjIenD0ib7"
      },
      "outputs": [],
      "source": [
        "train_input = []\n",
        "train_label = []\n",
        "population1 = list(range(20, 50))\n",
        "population2 = list(range(50, 100))\n",
        "size = 50\n",
        "\n",
        "for i in range(1, 51):\n",
        "    young = random.choices(population1, k=size)\n",
        "    train_input.extend(young)\n",
        "    train_label.append(0)\n",
        "\n",
        "    elder = random.choices(population2, k=size)\n",
        "    train_input.extend(elder)\n",
        "    train_label.append(1)\n",
        "\n",
        "count = len(train_label)\n",
        "print(count)"
      ]
    },
    {
      "cell_type": "code",
      "execution_count": null,
      "metadata": {
        "id": "9MpsO0QBgDrM"
      },
      "outputs": [],
      "source": [
        "size = 950\n",
        "\n",
        "for i in range(size):\n",
        "    young = random.choice(population1)\n",
        "    train_input.append(young)\n",
        "    train_label.append(1)\n",
        "\n",
        "    elder = random.choice(population2)\n",
        "    train_input.append(elder)\n",
        "    train_label.append(0)\n",
        "\n",
        "count = len(train_label)\n",
        "print(count)"
      ]
    },
    {
      "cell_type": "code",
      "execution_count": null,
      "metadata": {
        "id": "T4ls_i1w22iq"
      },
      "outputs": [],
      "source": [
        "combined_data = list(zip(train_input, train_label))\n",
        "random.shuffle(combined_data)\n",
        "\n",
        "train_input, train_label = zip(*combined_data)\n",
        "\n",
        "train_input = np.array(train_input)\n",
        "train_label = np.array(train_label)\n",
        "\n",
        "scaler = MinMaxScaler(feature_range=(0, 1))\n",
        "scaled_train_input = scaler.fit_transform(train_input.reshape(-1, 1))\n",
        "\n",
        "count=len(scaled_train_input)\n",
        "print(count)\n",
        "count1=len(train_label)\n",
        "print(count1)"
      ]
    },
    {
      "cell_type": "code",
      "source": [
        "model = keras.Sequential([\n",
        "        Dense(units=16, input_shape=(1,), activation=\"relu\", name=\"layer1\"),\n",
        "        Dense(units=32, activation=\"relu\", name=\"layer2\"),\n",
        "        Dense(units=2, activation=\"softmax\", name=\"layer3\"),\n",
        "    ])\n"
      ],
      "metadata": {
        "id": "x8fj7IZpWfBW"
      },
      "execution_count": 54,
      "outputs": []
    },
    {
      "cell_type": "code",
      "source": [
        "model.summary()"
      ],
      "metadata": {
        "id": "fYgsvN1fnRp8"
      },
      "execution_count": null,
      "outputs": []
    },
    {
      "cell_type": "code",
      "source": [
        "model.compile(optimizer=Adam(learning_rate=0.001), loss='sparse_categorical_crossentropy', metrics=[\"accuracy\"])\n",
        "model.fit(x=scaled_train_input, y=train_label, batch_size=10, epochs=50, shuffle=True, verbose= 2)"
      ],
      "metadata": {
        "id": "OC8hWGsmoBnc"
      },
      "execution_count": null,
      "outputs": []
    }
  ]
}